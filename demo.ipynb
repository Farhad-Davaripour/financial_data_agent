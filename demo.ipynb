{
  "cells": [
    {
      "cell_type": "code",
      "execution_count": 1,
      "id": "86b173ac-9fce-4813-bdf1-6dd7d93a491d",
      "metadata": {
        "id": "86b173ac-9fce-4813-bdf1-6dd7d93a491d"
      },
      "outputs": [],
      "source": [
        "import nest_asyncio\n",
        "\n",
        "nest_asyncio.apply()"
      ]
    },
    {
      "cell_type": "code",
      "execution_count": 5,
      "id": "ecc5eba5-96ce-4db7-bba1-f9ece33e681c",
      "metadata": {
        "id": "ecc5eba5-96ce-4db7-bba1-f9ece33e681c"
      },
      "outputs": [
        {
          "data": {
            "text/plain": [
              "True"
            ]
          },
          "execution_count": 5,
          "metadata": {},
          "output_type": "execute_result"
        }
      ],
      "source": [
        "import os\n",
        "from dotenv import load_dotenv\n",
        "load_dotenv(override=True)"
      ]
    },
    {
      "cell_type": "code",
      "execution_count": 6,
      "id": "b805592b-d1a5-4cd2-b916-348f66ca7941",
      "metadata": {
        "id": "b805592b-d1a5-4cd2-b916-348f66ca7941"
      },
      "outputs": [],
      "source": [
        "LLAMA_CLOUD_API_KEY = os.getenv(\"LLAMA_CLOUD_API_KEY\")\n",
        "OPENAI_API_KEY = os.getenv(\"OPENAI_API_KEY\")"
      ]
    },
    {
      "cell_type": "code",
      "execution_count": 36,
      "id": "8f366432",
      "metadata": {},
      "outputs": [],
      "source": [
        "from llama_index.llms.openai import OpenAI\n",
        "from llama_index.embeddings.openai import OpenAIEmbedding\n",
        "from llama_index.core import Settings\n",
        "\n",
        "embed_model = OpenAIEmbedding(model=\"text-embedding-3-large\")\n",
        "llm = OpenAI(model=\"gpt-4o\")\n",
        "\n",
        "Settings.llm = llm\n",
        "Settings.embed_model = embed_model"
      ]
    },
    {
      "cell_type": "code",
      "execution_count": 32,
      "id": "f46991c1-031b-461f-b9a6-9237a821f4c8",
      "metadata": {
        "id": "f46991c1-031b-461f-b9a6-9237a821f4c8"
      },
      "outputs": [],
      "source": [
        "from llama_parse import LlamaParse\n",
        "\n",
        "parsingInstructionManga = \"\"\"You are financial report expert. You are given a financial report of a company. You need to extract the following information from the report:\"\"\""
      ]
    },
    {
      "cell_type": "code",
      "execution_count": 33,
      "id": "1136ba82-074b-489d-9b0a-d609ccbf02b6",
      "metadata": {
        "id": "1136ba82-074b-489d-9b0a-d609ccbf02b6",
        "outputId": "9108e08f-be93-408d-a8a7-ae51536e157d"
      },
      "outputs": [
        {
          "name": "stdout",
          "output_type": "stream",
          "text": [
            "Parsing PDF file...\n",
            "Started parsing the file under job_id d7576f58-bf14-4dc8-8652-021cf6219b6f\n",
            "........................"
          ]
        }
      ],
      "source": [
        "print(f\"Parsing PDF file...\")\n",
        "parser_gpt4o = LlamaParse(result_type=\"markdown\", gpt4o_mode=True, parsing_instruction=parsingInstructionManga, show_progress=True)\n",
        "md_json_objs = parser_gpt4o.load_data('docs\\goa-annual-report-2023-2024.pdf')"
      ]
    },
    {
      "cell_type": "code",
      "execution_count": null,
      "id": "43cfd402",
      "metadata": {},
      "outputs": [],
      "source": [
        "# Parse the documents using MarkdownElementNodeParser\n",
        "from llama_index.core.node_parser import MarkdownElementNodeParser\n",
        "\n",
        "node_parser = MarkdownElementNodeParser(llm=OpenAI(model=\"gpt-4o-mini\"), num_workers=8)\n",
        "nodes = node_parser.get_nodes_from_documents(md_json_objs)\n",
        "base_nodes, objects = node_parser.get_nodes_and_objects(nodes)"
      ]
    },
    {
      "cell_type": "code",
      "execution_count": 40,
      "id": "9814e4ad",
      "metadata": {},
      "outputs": [],
      "source": [
        "import numpy as np\n",
        "\n",
        "# Convert list to NumPy array\n",
        "base_nodes_ar = np.array(base_nodes)\n",
        "objects_ar = np.array(objects)\n",
        "\n",
        "# Save array to a file in .npy format\n",
        "np.save(\"index/base_nodes.npy\", base_nodes_ar)\n",
        "np.save(\"index/objects.npy\", objects_ar)"
      ]
    },
    {
      "cell_type": "code",
      "execution_count": 42,
      "id": "df2f2659",
      "metadata": {},
      "outputs": [],
      "source": [
        "base_nodes = np.load('index/base_nodes.npy', allow_pickle=True).tolist()\n",
        "objects = np.load('index/objects.npy', allow_pickle=True).tolist()"
      ]
    },
    {
      "cell_type": "code",
      "execution_count": 44,
      "id": "9e65c54f-3e4c-4c78-b1e8-a55ebeba1f24",
      "metadata": {
        "id": "9e65c54f-3e4c-4c78-b1e8-a55ebeba1f24",
        "outputId": "038c2f2a-08c8-4c5b-81ca-11c2bb6e0020"
      },
      "outputs": [],
      "source": [
        "from llama_index.core import VectorStoreIndex\n",
        "\n",
        "recursive_index = VectorStoreIndex(nodes=base_nodes + objects)\n",
        "\n",
        "recursive_query_engine = recursive_index.as_query_engine(\n",
        "    similarity_top_k=5\n",
        ")"
      ]
    },
    {
      "cell_type": "code",
      "execution_count": 46,
      "id": "90fd258c",
      "metadata": {},
      "outputs": [
        {
          "name": "stdout",
          "output_type": "stream",
          "text": [
            "The highest financial revenue in 2023 is from non-renewable resource revenue, amounting to 25,242 million dollars.\n"
          ]
        }
      ],
      "source": [
        "query = 'What is the highest financial revenue in 2023'\n",
        "response = recursive_query_engine.query(query)\n",
        "print(response.response)"
      ]
    }
  ],
  "metadata": {
    "colab": {
      "provenance": []
    },
    "kernelspec": {
      "display_name": ".venv",
      "language": "python",
      "name": "python3"
    },
    "language_info": {
      "codemirror_mode": {
        "name": "ipython",
        "version": 3
      },
      "file_extension": ".py",
      "mimetype": "text/x-python",
      "name": "python",
      "nbconvert_exporter": "python",
      "pygments_lexer": "ipython3",
      "version": "3.10.11"
    }
  },
  "nbformat": 4,
  "nbformat_minor": 5
}
